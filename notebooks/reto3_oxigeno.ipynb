{
 "cells": [
  {
   "cell_type": "markdown",
   "metadata": {},
   "source": [
    "# 🧩 Reto 3 – Oxígeno disuelto\n",
    "**Objetivo:** evaluar riesgo ecológico según oxígeno disuelto.\n",
    "\n",
    "**Datos:** `../data/muestras_calidad_agua.csv`"
   ]
  },
  {
   "cell_type": "markdown",
   "metadata": {},
   "source": [
    "### Pasos\n",
    "1. Carga el CSV en `df`.\n",
    "2. Extrae `sitio` y `oxigeno`.\n",
    "3. Crea `nivel_oxigeno` (bajo/medio/alto).\n",
    "4. Crea `riesgo_biologico` (⚠ si oxígeno < 5).\n",
    "5. Filtra y exporta `resultado_oxigeno.csv`.\n",
    "\n",
    "> **Reto adicional:** porcentaje de sitios con riesgo."
   ]
  },
  {
   "cell_type": "code",
   "execution_count": null,
   "metadata": {},
   "outputs": [],
   "source": [
    "# Escribe tu código aquí\n",
    " "
   ]
  }
 ],
 "metadata": {
  "kernelspec": {
   "display_name": "Python 3",
   "language": "python",
   "name": "python3"
  }
 },
 "nbformat": 4,
 "nbformat_minor": 5
}
