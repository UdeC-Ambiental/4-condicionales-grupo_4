{
 "cells": [
  {
   "cell_type": "markdown",
   "id": "37db19ea",
   "metadata": {},
   "source": [
    "\n",
    "# Reto 3 – Oxígeno disuelto 🌿\n",
    "\n",
    "**Objetivo:**  \n",
    "Evaluar el riesgo ecológico según los niveles de oxígeno disuelto en distintas muestras de agua.\n",
    "\n",
    "**Datos:**  \n",
    "`data/muestras_calidad_agua.csv`\n",
    "\n",
    "**Pasos del análisis:**\n",
    "1. Cargar el archivo CSV en un DataFrame (`df`).\n",
    "2. Extraer las columnas relevantes: `sitio` y `oxigeno`.\n",
    "3. Clasificar los valores de oxígeno como **bajo**, **medio** o **alto**.\n",
    "4. Crear una columna que indique **riesgo biológico** cuando el oxígeno < 5 mg/L.\n",
    "5. Exportar los resultados a un nuevo archivo CSV: `resultado_oxigeno.csv`.\n",
    "6. Calcular el porcentaje de sitios con riesgo.\n"
   ]
  },
  {
   "cell_type": "code",
   "execution_count": null,
   "id": "a5e0fc26",
   "metadata": {},
   "outputs": [],
   "source": [
    "\n",
    "# Paso 1️⃣: Importar librerías\n",
    "import pandas as pd\n",
    "\n",
    "# Cargar el CSV desde la carpeta data/\n",
    "df = pd.read_csv('data/muestras_calidad_agua.csv')\n",
    "\n",
    "# Mostrar las primeras filas para verificar\n",
    "df.head()\n"
   ]
  },
  {
   "cell_type": "markdown",
   "id": "570f2ec5",
   "metadata": {},
   "source": [
    "\n",
    "### ✅ Paso 2: Seleccionar columnas necesarias\n",
    "Nos enfocamos solo en las columnas `sitio` y `oxigeno`, ya que son las relevantes para el análisis.\n"
   ]
  },
  {
   "cell_type": "code",
   "execution_count": null,
   "id": "971e11db",
   "metadata": {},
   "outputs": [],
   "source": [
    "\n",
    "df = df[['sitio', 'oxigeno']]\n",
    "df.head()\n"
   ]
  },
  {
   "cell_type": "markdown",
   "id": "302ff6e9",
   "metadata": {},
   "source": [
    "\n",
    "### ✅ Paso 3: Clasificar el nivel de oxígeno\n",
    "Creamos una nueva columna `nivel_oxigeno` según los rangos:\n",
    "- **Bajo:** oxígeno < 3  \n",
    "- **Medio:** entre 3 y 6  \n",
    "- **Alto:** ≥ 6  \n"
   ]
  },
  {
   "cell_type": "code",
   "execution_count": null,
   "id": "c296d53f",
   "metadata": {},
   "outputs": [],
   "source": [
    "\n",
    "def clasificar_nivel(o):\n",
    "    if o < 3:\n",
    "        return 'bajo'\n",
    "    elif o < 6:\n",
    "        return 'medio'\n",
    "    else:\n",
    "        return 'alto'\n",
    "\n",
    "df['nivel_oxigeno'] = df['oxigeno'].apply(clasificar_nivel)\n",
    "df.head()\n"
   ]
  },
  {
   "cell_type": "markdown",
   "id": "2bba19f9",
   "metadata": {},
   "source": [
    "\n",
    "### ✅ Paso 4: Evaluar riesgo biológico\n",
    "Si el valor de oxígeno es menor a 5 mg/L, se considera que el sitio tiene **riesgo biológico**.\n"
   ]
  },
  {
   "cell_type": "code",
   "execution_count": null,
   "id": "923d41c6",
   "metadata": {},
   "outputs": [],
   "source": [
    "\n",
    "df['riesgo_biologico'] = df['oxigeno'].apply(lambda x: '⚠️ Riesgo' if x < 5 else 'Sin riesgo')\n",
    "df.head()\n"
   ]
  },
  {
   "cell_type": "markdown",
   "id": "47c00088",
   "metadata": {},
   "source": [
    "\n",
    "### ✅ Paso 5: Exportar resultados\n",
    "Guardamos el DataFrame resultante en un nuevo archivo CSV para registrar el análisis.\n"
   ]
  },
  {
   "cell_type": "code",
   "execution_count": null,
   "id": "3946f805",
   "metadata": {},
   "outputs": [],
   "source": [
    "\n",
    "df.to_csv('resultado_oxigeno.csv', index=False)\n",
    "print(\"Archivo 'resultado_oxigeno.csv' exportado correctamente ✅\")\n"
   ]
  },
  {
   "cell_type": "markdown",
   "id": "546e2604",
   "metadata": {},
   "source": [
    "\n",
    "### ✅ Paso 6: Calcular porcentaje de sitios con riesgo\n",
    "Esto nos da una idea del estado general del ecosistema.\n"
   ]
  },
  {
   "cell_type": "code",
   "execution_count": null,
   "id": "4dac9581",
   "metadata": {},
   "outputs": [],
   "source": [
    "\n",
    "porcentaje_riesgo = (df['riesgo_biologico'] == '⚠️ Riesgo').mean() * 100\n",
    "print(f\"Porcentaje de sitios con riesgo biológico: {porcentaje_riesgo:.2f}%\")\n"
   ]
  },
  {
   "cell_type": "markdown",
   "id": "958205cd",
   "metadata": {},
   "source": [
    "\n",
    "---\n",
    "\n",
    "### 🧾 Conclusión\n",
    "Este análisis permite estimar la calidad del agua según su contenido de oxígeno disuelto.  \n",
    "Un valor bajo (<5 mg/L) puede indicar contaminación o falta de oxigenación, lo que representa un riesgo para la vida acuática.\n",
    "\n",
    "---\n"
   ]
  }
 ],
 "metadata": {},
 "nbformat": 4,
 "nbformat_minor": 5
}
